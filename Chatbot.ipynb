{
  "cells": [
    {
      "cell_type": "markdown",
      "source": [
        "# Chatbot with a tensorflow transformer"
      ],
      "metadata": {
        "id": "fp_SSYr7sfyk"
      }
    },
    {
      "cell_type": "code",
      "execution_count": null,
      "metadata": {
        "colab": {
          "base_uri": "https://localhost:8080/"
        },
        "id": "ZQ9NuAzCKnWf",
        "outputId": "9f85afe9-02f3-4698-ee49-cee9d39f118d"
      },
      "outputs": [
        {
          "output_type": "stream",
          "name": "stdout",
          "text": [
            "Looking in indexes: https://pypi.org/simple, https://us-python.pkg.dev/colab-wheels/public/simple/\n",
            "Collecting tensorflow-text\n",
            "  Downloading tensorflow_text-2.12.1-cp310-cp310-manylinux_2_17_x86_64.manylinux2014_x86_64.whl (6.0 MB)\n",
            "\u001b[2K     \u001b[90m━━━━━━━━━━━━━━━━━━━━━━━━━━━━━━━━━━━━━━━━\u001b[0m \u001b[32m6.0/6.0 MB\u001b[0m \u001b[31m40.7 MB/s\u001b[0m eta \u001b[36m0:00:00\u001b[0m\n",
            "\u001b[?25hRequirement already satisfied: tensorflow-hub>=0.8.0 in /usr/local/lib/python3.10/dist-packages (from tensorflow-text) (0.13.0)\n",
            "Requirement already satisfied: tensorflow<2.13,>=2.12.0 in /usr/local/lib/python3.10/dist-packages (from tensorflow-text) (2.12.0)\n",
            "Requirement already satisfied: absl-py>=1.0.0 in /usr/local/lib/python3.10/dist-packages (from tensorflow<2.13,>=2.12.0->tensorflow-text) (1.4.0)\n",
            "Requirement already satisfied: astunparse>=1.6.0 in /usr/local/lib/python3.10/dist-packages (from tensorflow<2.13,>=2.12.0->tensorflow-text) (1.6.3)\n",
            "Requirement already satisfied: flatbuffers>=2.0 in /usr/local/lib/python3.10/dist-packages (from tensorflow<2.13,>=2.12.0->tensorflow-text) (23.3.3)\n",
            "Requirement already satisfied: gast<=0.4.0,>=0.2.1 in /usr/local/lib/python3.10/dist-packages (from tensorflow<2.13,>=2.12.0->tensorflow-text) (0.4.0)\n",
            "Requirement already satisfied: google-pasta>=0.1.1 in /usr/local/lib/python3.10/dist-packages (from tensorflow<2.13,>=2.12.0->tensorflow-text) (0.2.0)\n",
            "Requirement already satisfied: grpcio<2.0,>=1.24.3 in /usr/local/lib/python3.10/dist-packages (from tensorflow<2.13,>=2.12.0->tensorflow-text) (1.54.0)\n",
            "Requirement already satisfied: h5py>=2.9.0 in /usr/local/lib/python3.10/dist-packages (from tensorflow<2.13,>=2.12.0->tensorflow-text) (3.8.0)\n",
            "Requirement already satisfied: jax>=0.3.15 in /usr/local/lib/python3.10/dist-packages (from tensorflow<2.13,>=2.12.0->tensorflow-text) (0.4.10)\n",
            "Requirement already satisfied: keras<2.13,>=2.12.0 in /usr/local/lib/python3.10/dist-packages (from tensorflow<2.13,>=2.12.0->tensorflow-text) (2.12.0)\n",
            "Requirement already satisfied: libclang>=13.0.0 in /usr/local/lib/python3.10/dist-packages (from tensorflow<2.13,>=2.12.0->tensorflow-text) (16.0.0)\n",
            "Requirement already satisfied: numpy<1.24,>=1.22 in /usr/local/lib/python3.10/dist-packages (from tensorflow<2.13,>=2.12.0->tensorflow-text) (1.22.4)\n",
            "Requirement already satisfied: opt-einsum>=2.3.2 in /usr/local/lib/python3.10/dist-packages (from tensorflow<2.13,>=2.12.0->tensorflow-text) (3.3.0)\n",
            "Requirement already satisfied: packaging in /usr/local/lib/python3.10/dist-packages (from tensorflow<2.13,>=2.12.0->tensorflow-text) (23.1)\n",
            "Requirement already satisfied: protobuf!=4.21.0,!=4.21.1,!=4.21.2,!=4.21.3,!=4.21.4,!=4.21.5,<5.0.0dev,>=3.20.3 in /usr/local/lib/python3.10/dist-packages (from tensorflow<2.13,>=2.12.0->tensorflow-text) (3.20.3)\n",
            "Requirement already satisfied: setuptools in /usr/local/lib/python3.10/dist-packages (from tensorflow<2.13,>=2.12.0->tensorflow-text) (67.7.2)\n",
            "Requirement already satisfied: six>=1.12.0 in /usr/local/lib/python3.10/dist-packages (from tensorflow<2.13,>=2.12.0->tensorflow-text) (1.16.0)\n",
            "Requirement already satisfied: tensorboard<2.13,>=2.12 in /usr/local/lib/python3.10/dist-packages (from tensorflow<2.13,>=2.12.0->tensorflow-text) (2.12.2)\n",
            "Requirement already satisfied: tensorflow-estimator<2.13,>=2.12.0 in /usr/local/lib/python3.10/dist-packages (from tensorflow<2.13,>=2.12.0->tensorflow-text) (2.12.0)\n",
            "Requirement already satisfied: termcolor>=1.1.0 in /usr/local/lib/python3.10/dist-packages (from tensorflow<2.13,>=2.12.0->tensorflow-text) (2.3.0)\n",
            "Requirement already satisfied: typing-extensions>=3.6.6 in /usr/local/lib/python3.10/dist-packages (from tensorflow<2.13,>=2.12.0->tensorflow-text) (4.5.0)\n",
            "Requirement already satisfied: wrapt<1.15,>=1.11.0 in /usr/local/lib/python3.10/dist-packages (from tensorflow<2.13,>=2.12.0->tensorflow-text) (1.14.1)\n",
            "Requirement already satisfied: tensorflow-io-gcs-filesystem>=0.23.1 in /usr/local/lib/python3.10/dist-packages (from tensorflow<2.13,>=2.12.0->tensorflow-text) (0.32.0)\n",
            "Requirement already satisfied: wheel<1.0,>=0.23.0 in /usr/local/lib/python3.10/dist-packages (from astunparse>=1.6.0->tensorflow<2.13,>=2.12.0->tensorflow-text) (0.40.0)\n",
            "Requirement already satisfied: ml-dtypes>=0.1.0 in /usr/local/lib/python3.10/dist-packages (from jax>=0.3.15->tensorflow<2.13,>=2.12.0->tensorflow-text) (0.1.0)\n",
            "Requirement already satisfied: scipy>=1.7 in /usr/local/lib/python3.10/dist-packages (from jax>=0.3.15->tensorflow<2.13,>=2.12.0->tensorflow-text) (1.10.1)\n",
            "Requirement already satisfied: google-auth<3,>=1.6.3 in /usr/local/lib/python3.10/dist-packages (from tensorboard<2.13,>=2.12->tensorflow<2.13,>=2.12.0->tensorflow-text) (2.17.3)\n",
            "Requirement already satisfied: google-auth-oauthlib<1.1,>=0.5 in /usr/local/lib/python3.10/dist-packages (from tensorboard<2.13,>=2.12->tensorflow<2.13,>=2.12.0->tensorflow-text) (1.0.0)\n",
            "Requirement already satisfied: markdown>=2.6.8 in /usr/local/lib/python3.10/dist-packages (from tensorboard<2.13,>=2.12->tensorflow<2.13,>=2.12.0->tensorflow-text) (3.4.3)\n",
            "Requirement already satisfied: requests<3,>=2.21.0 in /usr/local/lib/python3.10/dist-packages (from tensorboard<2.13,>=2.12->tensorflow<2.13,>=2.12.0->tensorflow-text) (2.27.1)\n",
            "Requirement already satisfied: tensorboard-data-server<0.8.0,>=0.7.0 in /usr/local/lib/python3.10/dist-packages (from tensorboard<2.13,>=2.12->tensorflow<2.13,>=2.12.0->tensorflow-text) (0.7.0)\n",
            "Requirement already satisfied: tensorboard-plugin-wit>=1.6.0 in /usr/local/lib/python3.10/dist-packages (from tensorboard<2.13,>=2.12->tensorflow<2.13,>=2.12.0->tensorflow-text) (1.8.1)\n",
            "Requirement already satisfied: werkzeug>=1.0.1 in /usr/local/lib/python3.10/dist-packages (from tensorboard<2.13,>=2.12->tensorflow<2.13,>=2.12.0->tensorflow-text) (2.3.0)\n",
            "Requirement already satisfied: cachetools<6.0,>=2.0.0 in /usr/local/lib/python3.10/dist-packages (from google-auth<3,>=1.6.3->tensorboard<2.13,>=2.12->tensorflow<2.13,>=2.12.0->tensorflow-text) (5.3.0)\n",
            "Requirement already satisfied: pyasn1-modules>=0.2.1 in /usr/local/lib/python3.10/dist-packages (from google-auth<3,>=1.6.3->tensorboard<2.13,>=2.12->tensorflow<2.13,>=2.12.0->tensorflow-text) (0.3.0)\n",
            "Requirement already satisfied: rsa<5,>=3.1.4 in /usr/local/lib/python3.10/dist-packages (from google-auth<3,>=1.6.3->tensorboard<2.13,>=2.12->tensorflow<2.13,>=2.12.0->tensorflow-text) (4.9)\n",
            "Requirement already satisfied: requests-oauthlib>=0.7.0 in /usr/local/lib/python3.10/dist-packages (from google-auth-oauthlib<1.1,>=0.5->tensorboard<2.13,>=2.12->tensorflow<2.13,>=2.12.0->tensorflow-text) (1.3.1)\n",
            "Requirement already satisfied: urllib3<1.27,>=1.21.1 in /usr/local/lib/python3.10/dist-packages (from requests<3,>=2.21.0->tensorboard<2.13,>=2.12->tensorflow<2.13,>=2.12.0->tensorflow-text) (1.26.15)\n",
            "Requirement already satisfied: certifi>=2017.4.17 in /usr/local/lib/python3.10/dist-packages (from requests<3,>=2.21.0->tensorboard<2.13,>=2.12->tensorflow<2.13,>=2.12.0->tensorflow-text) (2022.12.7)\n",
            "Requirement already satisfied: charset-normalizer~=2.0.0 in /usr/local/lib/python3.10/dist-packages (from requests<3,>=2.21.0->tensorboard<2.13,>=2.12->tensorflow<2.13,>=2.12.0->tensorflow-text) (2.0.12)\n",
            "Requirement already satisfied: idna<4,>=2.5 in /usr/local/lib/python3.10/dist-packages (from requests<3,>=2.21.0->tensorboard<2.13,>=2.12->tensorflow<2.13,>=2.12.0->tensorflow-text) (3.4)\n",
            "Requirement already satisfied: MarkupSafe>=2.1.1 in /usr/local/lib/python3.10/dist-packages (from werkzeug>=1.0.1->tensorboard<2.13,>=2.12->tensorflow<2.13,>=2.12.0->tensorflow-text) (2.1.2)\n",
            "Requirement already satisfied: pyasn1<0.6.0,>=0.4.6 in /usr/local/lib/python3.10/dist-packages (from pyasn1-modules>=0.2.1->google-auth<3,>=1.6.3->tensorboard<2.13,>=2.12->tensorflow<2.13,>=2.12.0->tensorflow-text) (0.5.0)\n",
            "Requirement already satisfied: oauthlib>=3.0.0 in /usr/local/lib/python3.10/dist-packages (from requests-oauthlib>=0.7.0->google-auth-oauthlib<1.1,>=0.5->tensorboard<2.13,>=2.12->tensorflow<2.13,>=2.12.0->tensorflow-text) (3.2.2)\n",
            "Installing collected packages: tensorflow-text\n",
            "Successfully installed tensorflow-text-2.12.1\n"
          ]
        }
      ],
      "source": [
        "!pip install \"tensorflow-text\""
      ]
    },
    {
      "cell_type": "code",
      "execution_count": null,
      "metadata": {
        "id": "TbEOLV37gT2k"
      },
      "outputs": [],
      "source": [
        "import tensorflow as tf\n",
        "import tensorflow_text as tf_text\n",
        "import numpy as np\n",
        "import re\n",
        "import tensorflow as tf\n",
        "from typing import Tuple\n",
        "import matplotlib.pyplot as plt"
      ]
    },
    {
      "cell_type": "markdown",
      "metadata": {
        "id": "MtslhPcIClCM"
      },
      "source": [
        "## Data processing functions and tokenizers"
      ]
    },
    {
      "cell_type": "code",
      "execution_count": null,
      "metadata": {
        "id": "6ExjqOZSJl4Y"
      },
      "outputs": [],
      "source": [
        "def parse_dialogues(file_path: str) -> Tuple[np.ndarray, np.ndarray]:\n",
        "    contexts = []\n",
        "    targets = []\n",
        "\n",
        "    with open(file_path, 'r', encoding='utf-8') as file:\n",
        "        for line in file:\n",
        "            line = line.strip()\n",
        "\n",
        "            if line == '':\n",
        "                continue\n",
        "\n",
        "            if line.endswith('__eou__'):\n",
        "                sentences = line.split('__eou__')\n",
        "                sentences = [sentence.strip() for sentence in sentences if sentence.strip()]\n",
        "\n",
        "                for i in range(len(sentences) - 1):\n",
        "                    contexts.append(sentences[i])\n",
        "                    targets.append(sentences[i+1])\n",
        "\n",
        "    # Convert lists to numpy arrays\n",
        "    contexts = np.array(contexts)\n",
        "    targets = np.array(targets)\n",
        "\n",
        "    return targets, contexts"
      ]
    },
    {
      "cell_type": "code",
      "execution_count": null,
      "metadata": {
        "id": "PaEs90W8Jt8f"
      },
      "outputs": [],
      "source": [
        "def tf_lower_and_split_punct(sentence: tf.Tensor) -> tf.Tensor:\n",
        "    sentence = tf.strings.lower(sentence)\n",
        "    sentence = tf.strings.strip(sentence)\n",
        "\n",
        "    sentence = tf.strings.regex_replace(sentence, r\"([?.!,])\", r\" \\1 \")\n",
        "    sentence = tf.strings.regex_replace(sentence, r'[\" \"]+', \" \")\n",
        "\n",
        "    sentence = tf.strings.regex_replace(sentence, r\"i'm\", \"i am\")\n",
        "    sentence = tf.strings.regex_replace(sentence, r\"he's\", \"he is\")\n",
        "    sentence = tf.strings.regex_replace(sentence, r\"she's\", \"she is\")\n",
        "    sentence = tf.strings.regex_replace(sentence, r\"it's\", \"it is\")\n",
        "    sentence = tf.strings.regex_replace(sentence, r\"that's\", \"that is\")\n",
        "    sentence = tf.strings.regex_replace(sentence, r\"what's\", \"that is\")\n",
        "    sentence = tf.strings.regex_replace(sentence, r\"where's\", \"where is\")\n",
        "    sentence = tf.strings.regex_replace(sentence, r\"how's\", \"how is\")\n",
        "\n",
        "    sentence = tf.strings.regex_replace(sentence, r\"\\'ll\", \" will\")\n",
        "    sentence = tf.strings.regex_replace(sentence, r\"\\'ve\", \" have\")\n",
        "    sentence = tf.strings.regex_replace(sentence, r\"\\'re\", \" are\")\n",
        "    sentence = tf.strings.regex_replace(sentence, r\"\\'d\", \" would\")\n",
        "    sentence = tf.strings.regex_replace(sentence, r\"\\'re\", \" are\")\n",
        "\n",
        "    sentence = tf.strings.regex_replace(sentence, r\"won't\", \"will not\")\n",
        "    sentence = tf.strings.regex_replace(sentence, r\"can't\", \"cannot\")\n",
        "    sentence = tf.strings.regex_replace(sentence, r\"n't\", \" not\")\n",
        "    sentence = tf.strings.regex_replace(sentence, r\"n'\", \"ng\")\n",
        "    sentence = tf.strings.regex_replace(sentence, r\"'bout\", \"about\")\n",
        "\n",
        "    sentence = tf.strings.regex_replace(sentence, r\"[^a-zA-Z?.!,]+\", \" \")\n",
        "    sentence = tf.strings.strip(sentence)\n",
        "\n",
        "    sentence = tf.strings.join(['[START]', sentence, '[END]'], separator=' ')\n",
        "\n",
        "    return sentence"
      ]
    },
    {
      "cell_type": "code",
      "execution_count": null,
      "metadata": {
        "id": "n-k_anbSK-jf"
      },
      "outputs": [],
      "source": [
        "def process_text(context, target):\n",
        "    context = context_text_processor(context).to_tensor()\n",
        "    target = target_text_processor(target)\n",
        "    targ_in = target[:,:-1].to_tensor()\n",
        "    targ_out = target[:,1:].to_tensor()\n",
        "    return (context, targ_in), targ_out"
      ]
    },
    {
      "cell_type": "code",
      "execution_count": null,
      "metadata": {
        "colab": {
          "base_uri": "https://localhost:8080/"
        },
        "id": "shv1UOiLcBSq",
        "outputId": "c8ababe8-2893-4177-a3bf-ecf1f12d0bfa"
      },
      "outputs": [
        {
          "output_type": "stream",
          "name": "stdout",
          "text": [
            "Mounted at /content/drive\n"
          ]
        }
      ],
      "source": [
        "from google.colab import drive\n",
        "drive.mount('/content/drive')"
      ]
    },
    {
      "cell_type": "code",
      "execution_count": null,
      "metadata": {
        "id": "cbASERFXJxUN"
      },
      "outputs": [],
      "source": [
        "target_raw, context_raw = parse_dialogues('/content/drive/MyDrive/dialogues_text.txt')"
      ]
    },
    {
      "cell_type": "code",
      "execution_count": null,
      "metadata": {
        "colab": {
          "base_uri": "https://localhost:8080/"
        },
        "id": "PaHRPgjFMJhJ",
        "outputId": "e4975ee1-2998-4c61-b089-a977813f9e94"
      },
      "outputs": [
        {
          "output_type": "stream",
          "name": "stdout",
          "text": [
            "Context length : 89862\n",
            "Target length  : 89862\n"
          ]
        }
      ],
      "source": [
        "print(f\"Context length : {len(context_raw)}\")\n",
        "print(f\"Target length  : {len(target_raw)}\")"
      ]
    },
    {
      "cell_type": "code",
      "source": [
        "BUFFER_SIZE = len(context_raw)\n",
        "BATCH_SIZE = 64\n",
        "\n",
        "is_train = np.random.uniform(size=(len(target_raw),)) < 0.8\n",
        "\n",
        "train_raw = (tf.data.Dataset\n",
        "    .from_tensor_slices((context_raw[is_train], target_raw[is_train]))\n",
        "    .shuffle(BUFFER_SIZE)\n",
        "    .batch(BATCH_SIZE)\n",
        ")\n",
        "val_raw = (tf.data.Dataset\n",
        "    .from_tensor_slices((context_raw[~is_train], target_raw[~is_train]))\n",
        "    .shuffle(BUFFER_SIZE)\n",
        "    .batch(BATCH_SIZE)\n",
        ")"
      ],
      "metadata": {
        "id": "pCNG6Vp_qyVj"
      },
      "execution_count": null,
      "outputs": []
    },
    {
      "cell_type": "code",
      "execution_count": null,
      "metadata": {
        "id": "vxEO5HCOKCrx"
      },
      "outputs": [],
      "source": [
        "max_vocab_size = 5000\n",
        "\n",
        "context_text_processor = tf.keras.layers.TextVectorization(standardize=tf_lower_and_split_punct,\n",
        "                                                           max_tokens=max_vocab_size,\n",
        "                                                           ragged=True)\n",
        "\n",
        "target_text_processor = tf.keras.layers.TextVectorization(standardize=tf_lower_and_split_punct,\n",
        "                                                          max_tokens=max_vocab_size,\n",
        "                                                          ragged=True)"
      ]
    },
    {
      "cell_type": "code",
      "execution_count": null,
      "metadata": {
        "id": "pvWWAUfZKFcN"
      },
      "outputs": [],
      "source": [
        "context_text_processor.adapt(train_raw.map(lambda context, target: context))\n",
        "target_text_processor.adapt(train_raw.map(lambda context, target: target))"
      ]
    },
    {
      "cell_type": "code",
      "execution_count": null,
      "metadata": {
        "id": "rpNEo_xFKG62"
      },
      "outputs": [],
      "source": [
        "train_ds = train_raw.map(process_text, tf.data.AUTOTUNE)\n",
        "val_ds = val_raw.map(process_text, tf.data.AUTOTUNE)"
      ]
    },
    {
      "cell_type": "markdown",
      "metadata": {
        "id": "wiYGIkLbClCR"
      },
      "source": [
        "## Positional embedding"
      ]
    },
    {
      "cell_type": "code",
      "execution_count": null,
      "metadata": {
        "id": "T9X4RmO-gsYs"
      },
      "outputs": [],
      "source": [
        "def positional_encoding(length: int, depth: int) -> tf.Tensor:\n",
        "    depth = depth / 2\n",
        "\n",
        "    positions = np.arange(length)[:, np.newaxis]\n",
        "    depths = np.arange(depth)[np.newaxis, :] / depth\n",
        "\n",
        "    angle_rates = np.divide(1, np.power(10000, depths))\n",
        "    angle_rads = np.matmul(positions, angle_rates)\n",
        "\n",
        "    pos_encoding = np.concatenate(\n",
        "        [np.sin(angle_rads), np.cos(angle_rads)],\n",
        "        axis = -1\n",
        "    )\n",
        "\n",
        "    return tf.cast(pos_encoding, dtype=tf.float32)"
      ]
    },
    {
      "cell_type": "code",
      "execution_count": null,
      "metadata": {
        "id": "tZ-yUk3qhYFH"
      },
      "outputs": [],
      "source": [
        "class PositionalEmbedding(tf.keras.layers.Layer):\n",
        "  def __init__(self, vocab_size, d_model):\n",
        "    super().__init__()\n",
        "    self.d_model = d_model\n",
        "    self.embedding = tf.keras.layers.Embedding(\n",
        "        vocab_size,\n",
        "        d_model,\n",
        "        mask_zero=True\n",
        "    )\n",
        "    self.pos_encoding = positional_encoding(\n",
        "        length=2048,\n",
        "        depth=d_model\n",
        "    )\n",
        "\n",
        "  def call(self, x):\n",
        "    length = tf.shape(x)[1]\n",
        "    x = self.embedding(x)\n",
        "    x *= tf.math.sqrt(tf.cast(self.d_model, tf.float32))\n",
        "    x = x + self.pos_encoding[tf.newaxis, :length, :]\n",
        "    return x\n",
        "\n",
        "  def compute_mask(self, *args, **kwargs):\n",
        "    return self.embedding.compute_mask(*args, **kwargs)"
      ]
    },
    {
      "cell_type": "markdown",
      "metadata": {
        "id": "yfxVVBuOClCS"
      },
      "source": [
        "## Attention layers"
      ]
    },
    {
      "cell_type": "code",
      "execution_count": null,
      "metadata": {
        "id": "E64UhnfSnvZm"
      },
      "outputs": [],
      "source": [
        "class BaseAttention(tf.keras.layers.Layer):\n",
        "  def __init__(self, **kwargs):\n",
        "    super().__init__()\n",
        "\n",
        "    self.mha = tf.keras.layers.MultiHeadAttention(**kwargs)\n",
        "    self.layernorm = tf.keras.layers.LayerNormalization()\n",
        "    self.add = tf.keras.layers.Add()\n",
        "\n",
        "  def call(self, x, context):\n",
        "    return x"
      ]
    },
    {
      "cell_type": "code",
      "execution_count": null,
      "metadata": {
        "id": "gBe4JpugovTC"
      },
      "outputs": [],
      "source": [
        "class CrossAttention(BaseAttention):\n",
        "  def call(self, x, context):\n",
        "    attn_output, attn_scores = self.mha(\n",
        "        query=x,\n",
        "        key=context,\n",
        "        value=context,\n",
        "        return_attention_scores=True\n",
        "    )\n",
        "\n",
        "    self.last_attn_scores = attn_scores\n",
        "\n",
        "    x = self.add([x, attn_output])\n",
        "    x = self.layernorm(x)\n",
        "\n",
        "    return x"
      ]
    },
    {
      "cell_type": "code",
      "execution_count": null,
      "metadata": {
        "id": "SPDtO96ZpjiT"
      },
      "outputs": [],
      "source": [
        "class GlobalSelfAttention(BaseAttention):\n",
        "  def call(self, x):\n",
        "    attn_output = self.mha(\n",
        "        query=x,\n",
        "        value=x,\n",
        "        key=x\n",
        "    )\n",
        "\n",
        "    x = self.add([x, attn_output])\n",
        "    x = self.layernorm(x)\n",
        "\n",
        "    return x"
      ]
    },
    {
      "cell_type": "code",
      "execution_count": null,
      "metadata": {
        "id": "THHS6OwxqJ7m"
      },
      "outputs": [],
      "source": [
        "class CausalSelfAttention(BaseAttention):\n",
        "  def call(self, x):\n",
        "    attn_output = self.mha(\n",
        "        query=x,\n",
        "        value=x,\n",
        "        key=x,\n",
        "        use_causal_mask=True\n",
        "    )\n",
        "\n",
        "    x = self.add([x, attn_output])\n",
        "    x = self.layernorm(x)\n",
        "\n",
        "    return x"
      ]
    },
    {
      "cell_type": "markdown",
      "metadata": {
        "id": "j27GMtL2ClCU"
      },
      "source": [
        "## FFN with ReLU activation function"
      ]
    },
    {
      "cell_type": "code",
      "execution_count": null,
      "metadata": {
        "id": "xBkb0kP7qilH"
      },
      "outputs": [],
      "source": [
        "class FeedForward(tf.keras.layers.Layer):\n",
        "  def __init__(self, d_model, dff, dropout_rate=0.1):\n",
        "    super().__init__()\n",
        "\n",
        "    self.seq = tf.keras.Sequential([\n",
        "        tf.keras.layers.Dense(dff, activation=\"relu\"),\n",
        "        tf.keras.layers.Dense(d_model),\n",
        "        tf.keras.layers.Dropout(dropout_rate)\n",
        "    ])\n",
        "\n",
        "    self.add = tf.keras.layers.Add()\n",
        "    self.layer_norm = tf.keras.layers.LayerNormalization()\n",
        "\n",
        "  def call(self, x):\n",
        "    x = self.add([x, self.seq(x)])\n",
        "    x = self.layer_norm(x)\n",
        "\n",
        "    return x"
      ]
    },
    {
      "cell_type": "markdown",
      "metadata": {
        "id": "EHXRpR5_ClCU"
      },
      "source": [
        "## Encoder build"
      ]
    },
    {
      "cell_type": "markdown",
      "metadata": {
        "id": "BoaSedfnClCU"
      },
      "source": [
        "### Single layer"
      ]
    },
    {
      "cell_type": "code",
      "execution_count": null,
      "metadata": {
        "id": "7S3TNmSWrazu"
      },
      "outputs": [],
      "source": [
        "class EncoderLayer(tf.keras.layers.Layer):\n",
        "  def __init__(self, *, d_model, num_heads, dff, dropout_rate=0.1):\n",
        "    super().__init__()\n",
        "\n",
        "    self.self_attention = GlobalSelfAttention(\n",
        "        num_heads=num_heads,\n",
        "        key_dim=d_model,\n",
        "        dropout=dropout_rate\n",
        "    )\n",
        "\n",
        "    self.ffn = FeedForward(\n",
        "        d_model,\n",
        "        dff\n",
        "    )\n",
        "\n",
        "  def call(self, x):\n",
        "    x = self.self_attention(x)\n",
        "    x = self.ffn(x)\n",
        "\n",
        "    return x"
      ]
    },
    {
      "cell_type": "markdown",
      "metadata": {
        "id": "uSTC7yJkClCV"
      },
      "source": [
        "### Encoder"
      ]
    },
    {
      "cell_type": "code",
      "execution_count": null,
      "metadata": {
        "id": "QFeW2Q7rtFbx"
      },
      "outputs": [],
      "source": [
        "class Encoder(tf.keras.layers.Layer):\n",
        "  def __init__(self, *, num_layers, d_model, num_heads,\n",
        "               dff, vocab_size, dropout_rate=0.1):\n",
        "    super().__init__()\n",
        "\n",
        "    self.d_model = d_model\n",
        "    self.num_layers = num_layers\n",
        "\n",
        "    self.pos_embedding = PositionalEmbedding(\n",
        "        vocab_size=vocab_size,\n",
        "        d_model=d_model\n",
        "    )\n",
        "\n",
        "    self.enc_layers = [\n",
        "        EncoderLayer(\n",
        "            d_model=d_model,\n",
        "            num_heads=num_heads,\n",
        "            dff=dff,\n",
        "            dropout_rate=dropout_rate\n",
        "        )\n",
        "\n",
        "        for _ in range(num_layers)\n",
        "    ]\n",
        "\n",
        "    self.dropout = tf.keras.layers.Dropout(dropout_rate)\n",
        "\n",
        "  def call(self, x):\n",
        "    x = self.pos_embedding(x)\n",
        "    x = self.dropout(x)\n",
        "\n",
        "    for i in range(self.num_layers):\n",
        "      x = self.enc_layers[i](x)\n",
        "\n",
        "    return x"
      ]
    },
    {
      "cell_type": "markdown",
      "metadata": {
        "id": "uaP_ECp_ClCV"
      },
      "source": [
        "## Decoder build"
      ]
    },
    {
      "cell_type": "markdown",
      "metadata": {
        "id": "lo9MLW8aClCV"
      },
      "source": [
        "### Single layer"
      ]
    },
    {
      "cell_type": "code",
      "execution_count": null,
      "metadata": {
        "id": "7dBMBgAk-Q8r"
      },
      "outputs": [],
      "source": [
        "class DecoderLayer(tf.keras.layers.Layer):\n",
        "  def __init__(self, *, d_model, num_heads,\n",
        "               dff, dropout_rate=0.1):\n",
        "    super(DecoderLayer, self).__init__()\n",
        "\n",
        "    self.causal_self_attention = CausalSelfAttention(\n",
        "        num_heads=num_heads,\n",
        "        key_dim=d_model,\n",
        "        dropout=dropout_rate\n",
        "    )\n",
        "\n",
        "    self.cross_attention = CrossAttention(\n",
        "        num_heads=num_heads,\n",
        "        key_dim=d_model,\n",
        "        dropout=dropout_rate\n",
        "    )\n",
        "\n",
        "    self.ffn = FeedForward(\n",
        "        d_model,\n",
        "        dff\n",
        "    )\n",
        "\n",
        "  def call(self, x, context):\n",
        "    x = self.causal_self_attention(x)\n",
        "    x = self.cross_attention(x, context)\n",
        "\n",
        "    self.last_attn_scores = self.cross_attention.last_attn_scores\n",
        "\n",
        "    x = self.ffn(x)\n",
        "\n",
        "    return x"
      ]
    },
    {
      "cell_type": "markdown",
      "metadata": {
        "id": "Wbwq7ouGClCW"
      },
      "source": [
        "### Decoder"
      ]
    },
    {
      "cell_type": "code",
      "execution_count": null,
      "metadata": {
        "id": "qZURuuz6CnQw"
      },
      "outputs": [],
      "source": [
        "class Decoder(tf.keras.layers.Layer):\n",
        "  def __init__(self, *, num_layers, d_model, num_heads,\n",
        "               dff, vocab_size, dropout_rate=0.1):\n",
        "    super(Decoder, self).__init__()\n",
        "\n",
        "    self.d_model = d_model\n",
        "    self.num_layers = num_layers\n",
        "\n",
        "    self.pos_embedding = PositionalEmbedding(\n",
        "        vocab_size=vocab_size,\n",
        "        d_model=d_model\n",
        "    )\n",
        "\n",
        "    self.dropout = tf.keras.layers.Dropout(\n",
        "        dropout_rate\n",
        "    )\n",
        "\n",
        "    self.dec_layers = [\n",
        "        DecoderLayer(\n",
        "            d_model=d_model,\n",
        "            num_heads=num_heads,\n",
        "            dff=dff,\n",
        "            dropout_rate=dropout_rate\n",
        "        )\n",
        "\n",
        "        for _ in range(num_layers)\n",
        "    ]\n",
        "\n",
        "    self.last_attn_scores = None\n",
        "\n",
        "  def call(self, x, context):\n",
        "    x = self.pos_embedding(x)\n",
        "    x = self.dropout(x)\n",
        "\n",
        "    for i in range(self.num_layers):\n",
        "      x = self.dec_layers[i](x, context)\n",
        "\n",
        "    self.last_attn_scores = self.dec_layers[-1].last_attn_scores\n",
        "\n",
        "    return x"
      ]
    },
    {
      "cell_type": "markdown",
      "metadata": {
        "id": "cAyfplJNClCW"
      },
      "source": [
        "## Transformer"
      ]
    },
    {
      "cell_type": "code",
      "execution_count": null,
      "metadata": {
        "id": "pAS2TDaWFNBE"
      },
      "outputs": [],
      "source": [
        "class Transformer(tf.keras.Model):\n",
        "  def __init__(self, *, num_layers, d_model, num_heads, dff,\n",
        "               input_vocab_size, target_vocab_size, dropout_rate=0.1):\n",
        "    super().__init__()\n",
        "\n",
        "    self.encoder = Encoder(\n",
        "        num_layers=num_layers, d_model=d_model,\n",
        "        num_heads=num_heads, dff=dff,\n",
        "        vocab_size=input_vocab_size,\n",
        "        dropout_rate=dropout_rate\n",
        "    )\n",
        "\n",
        "    self.decoder = Decoder(\n",
        "        num_layers=num_layers, d_model=d_model,\n",
        "        num_heads=num_heads, dff=dff,\n",
        "        vocab_size=target_vocab_size,\n",
        "        dropout_rate=dropout_rate\n",
        "    )\n",
        "\n",
        "    self.final_layer = tf.keras.layers.Dense(target_vocab_size)\n",
        "\n",
        "  def call(self, inputs):\n",
        "    context, x = inputs\n",
        "\n",
        "    context = self.encoder(context)\n",
        "\n",
        "    x = self.decoder(x, context)\n",
        "\n",
        "    logits = self.final_layer(x)\n",
        "\n",
        "    try:\n",
        "      del logits._keras_mask\n",
        "    except AttributeError:\n",
        "      pass\n",
        "\n",
        "    return logits"
      ]
    },
    {
      "cell_type": "markdown",
      "metadata": {
        "id": "r0BwsYlwClCX"
      },
      "source": [
        "## Model build"
      ]
    },
    {
      "cell_type": "markdown",
      "metadata": {
        "id": "fIt1-PtLClCX"
      },
      "source": [
        "### hyper parameters"
      ]
    },
    {
      "cell_type": "code",
      "execution_count": null,
      "metadata": {
        "id": "Kmt3ggggG4iO"
      },
      "outputs": [],
      "source": [
        "num_layers = 4\n",
        "d_model = 128\n",
        "dff = 512\n",
        "num_heads = 8\n",
        "dropout_rate = 0.1"
      ]
    },
    {
      "cell_type": "markdown",
      "metadata": {
        "id": "YzyKLfj8ClCi"
      },
      "source": [
        "### transformer initialization"
      ]
    },
    {
      "cell_type": "code",
      "execution_count": null,
      "metadata": {
        "id": "IOediEcOHBad"
      },
      "outputs": [],
      "source": [
        "transformer = Transformer(\n",
        "    num_layers=num_layers,\n",
        "    d_model=d_model,\n",
        "    num_heads=num_heads,\n",
        "    dff=dff,\n",
        "    input_vocab_size=len(context_text_processor.get_vocabulary()),\n",
        "    target_vocab_size=len(target_text_processor.get_vocabulary()),\n",
        "    dropout_rate=dropout_rate\n",
        ")"
      ]
    },
    {
      "cell_type": "markdown",
      "metadata": {
        "id": "sHFGjxqFClCi"
      },
      "source": [
        "### custom learning rate schedule"
      ]
    },
    {
      "cell_type": "code",
      "execution_count": null,
      "metadata": {
        "id": "pf40QakfMm5Z"
      },
      "outputs": [],
      "source": [
        "class CustomSchedule(tf.keras.optimizers.schedules.LearningRateSchedule):\n",
        "  def __init__(self, d_model, warmup_steps=4000):\n",
        "    super().__init__()\n",
        "\n",
        "    self.d_model = tf.cast(d_model, tf.float32)\n",
        "    self.warmup_steps = warmup_steps\n",
        "\n",
        "  def get_config(self):\n",
        "    return {'d_model': self.d_model, 'warmup_steps': self.warmup_steps}\n",
        "\n",
        "  def __call__(self, step):\n",
        "    step = tf.cast(step, tf.float32)\n",
        "    arg1 = tf.math.rsqrt(step)\n",
        "    arg2 = step * (self.warmup_steps ** -1.5)\n",
        "\n",
        "    return tf.math.rsqrt(self.d_model) * tf.math.minimum(arg1, arg2)"
      ]
    },
    {
      "cell_type": "code",
      "execution_count": null,
      "metadata": {
        "id": "5Y5FaQ5PPGAY"
      },
      "outputs": [],
      "source": [
        "learning_rate = CustomSchedule(d_model)\n",
        "\n",
        "optimizer = tf.keras.optimizers.Adam(learning_rate, beta_1=0.9, beta_2=0.98,\n",
        "                                     epsilon=1e-9)"
      ]
    },
    {
      "cell_type": "markdown",
      "metadata": {
        "id": "1YW1xdaRClCj"
      },
      "source": [
        "### loss function and accuracy metric definition"
      ]
    },
    {
      "cell_type": "code",
      "execution_count": null,
      "metadata": {
        "id": "GRlQKEypPUAJ"
      },
      "outputs": [],
      "source": [
        "def masked_loss(label, pred):\n",
        "  mask = label != 0\n",
        "  loss_object = tf.keras.losses.SparseCategoricalCrossentropy(\n",
        "    from_logits=True, reduction='none')\n",
        "  loss = loss_object(label, pred)\n",
        "\n",
        "  mask = tf.cast(mask, dtype=loss.dtype)\n",
        "  loss *= mask\n",
        "\n",
        "  loss = tf.reduce_sum(loss)/tf.reduce_sum(mask)\n",
        "  return loss\n",
        "\n",
        "\n",
        "def masked_accuracy(label, pred):\n",
        "  pred = tf.argmax(pred, axis=2)\n",
        "  label = tf.cast(label, pred.dtype)\n",
        "  match_ = label == pred\n",
        "\n",
        "  mask = label != 0\n",
        "\n",
        "  match_ = match_ & mask\n",
        "\n",
        "  match_ = tf.cast(match_, dtype=tf.float32)\n",
        "  mask = tf.cast(mask, dtype=tf.float32)\n",
        "  return tf.reduce_sum(match_)/tf.reduce_sum(mask)"
      ]
    },
    {
      "cell_type": "code",
      "execution_count": null,
      "metadata": {
        "id": "VPAmfqEtPzr-"
      },
      "outputs": [],
      "source": [
        "transformer.compile(\n",
        "    loss=masked_loss,\n",
        "    optimizer=optimizer,\n",
        "    metrics=[masked_accuracy])"
      ]
    },
    {
      "cell_type": "markdown",
      "metadata": {
        "id": "GxT74iOuClCk"
      },
      "source": [
        "### training"
      ]
    },
    {
      "cell_type": "code",
      "execution_count": null,
      "metadata": {
        "colab": {
          "base_uri": "https://localhost:8080/"
        },
        "id": "qPUpw29pP26M",
        "outputId": "f14ac2d1-0571-4baa-ddf2-c25d8fa06bb0"
      },
      "outputs": [
        {
          "output_type": "stream",
          "name": "stdout",
          "text": [
            "Epoch 1/20\n",
            "1124/1124 [==============================] - 294s 223ms/step - loss: 5.4748 - masked_accuracy: 0.1992 - val_loss: 4.1200 - val_masked_accuracy: 0.2816\n",
            "Epoch 2/20\n",
            "1124/1124 [==============================] - 201s 179ms/step - loss: 3.9608 - masked_accuracy: 0.2934 - val_loss: 3.7816 - val_masked_accuracy: 0.3101\n",
            "Epoch 3/20\n",
            "1124/1124 [==============================] - 198s 176ms/step - loss: 3.7288 - masked_accuracy: 0.3109 - val_loss: 3.6536 - val_masked_accuracy: 0.3182\n",
            "Epoch 4/20\n",
            "1124/1124 [==============================] - 192s 170ms/step - loss: 3.6034 - masked_accuracy: 0.3197 - val_loss: 3.5325 - val_masked_accuracy: 0.3276\n",
            "Epoch 5/20\n",
            "1124/1124 [==============================] - 192s 171ms/step - loss: 3.4569 - masked_accuracy: 0.3324 - val_loss: 3.4569 - val_masked_accuracy: 0.3360\n",
            "Epoch 6/20\n",
            "1124/1124 [==============================] - 190s 169ms/step - loss: 3.3303 - masked_accuracy: 0.3445 - val_loss: 3.3836 - val_masked_accuracy: 0.3447\n",
            "Epoch 7/20\n",
            "1124/1124 [==============================] - 190s 169ms/step - loss: 3.2308 - masked_accuracy: 0.3539 - val_loss: 3.3374 - val_masked_accuracy: 0.3486\n",
            "Epoch 8/20\n",
            "1124/1124 [==============================] - 189s 168ms/step - loss: 3.1461 - masked_accuracy: 0.3633 - val_loss: 3.2986 - val_masked_accuracy: 0.3553\n",
            "Epoch 9/20\n",
            "1124/1124 [==============================] - 191s 170ms/step - loss: 3.0764 - masked_accuracy: 0.3703 - val_loss: 3.2682 - val_masked_accuracy: 0.3593\n",
            "Epoch 10/20\n",
            "1124/1124 [==============================] - 192s 170ms/step - loss: 3.0160 - masked_accuracy: 0.3774 - val_loss: 3.2531 - val_masked_accuracy: 0.3612\n",
            "Epoch 11/20\n",
            "1124/1124 [==============================] - 190s 169ms/step - loss: 2.9592 - masked_accuracy: 0.3837 - val_loss: 3.2413 - val_masked_accuracy: 0.3635\n",
            "Epoch 12/20\n",
            "1124/1124 [==============================] - 190s 169ms/step - loss: 2.9074 - masked_accuracy: 0.3901 - val_loss: 3.2253 - val_masked_accuracy: 0.3656\n",
            "Epoch 13/20\n",
            "1124/1124 [==============================] - 191s 170ms/step - loss: 2.8623 - masked_accuracy: 0.3952 - val_loss: 3.2206 - val_masked_accuracy: 0.3671\n",
            "Epoch 14/20\n",
            "1124/1124 [==============================] - 190s 169ms/step - loss: 2.8210 - masked_accuracy: 0.4006 - val_loss: 3.2124 - val_masked_accuracy: 0.3702\n",
            "Epoch 15/20\n",
            "1124/1124 [==============================] - 191s 170ms/step - loss: 2.7816 - masked_accuracy: 0.4059 - val_loss: 3.1998 - val_masked_accuracy: 0.3727\n",
            "Epoch 16/20\n",
            "1124/1124 [==============================] - 194s 172ms/step - loss: 2.7451 - masked_accuracy: 0.4108 - val_loss: 3.2060 - val_masked_accuracy: 0.3724\n",
            "Epoch 17/20\n",
            "1124/1124 [==============================] - 192s 170ms/step - loss: 2.7124 - masked_accuracy: 0.4150 - val_loss: 3.2029 - val_masked_accuracy: 0.3749\n",
            "Epoch 18/20\n",
            "1124/1124 [==============================] - 192s 171ms/step - loss: 2.6830 - masked_accuracy: 0.4195 - val_loss: 3.1982 - val_masked_accuracy: 0.3765\n",
            "Epoch 19/20\n",
            "1124/1124 [==============================] - 191s 170ms/step - loss: 2.6533 - masked_accuracy: 0.4239 - val_loss: 3.1970 - val_masked_accuracy: 0.3767\n",
            "Epoch 20/20\n",
            "1124/1124 [==============================] - 192s 170ms/step - loss: 2.6254 - masked_accuracy: 0.4277 - val_loss: 3.1932 - val_masked_accuracy: 0.3797\n"
          ]
        }
      ],
      "source": [
        "history = transformer.fit(train_ds,\n",
        "                epochs=20,\n",
        "                validation_data=val_ds)"
      ]
    },
    {
      "cell_type": "code",
      "execution_count": null,
      "metadata": {
        "id": "id3qfNKV8sGU",
        "colab": {
          "base_uri": "https://localhost:8080/",
          "height": 397
        },
        "outputId": "0e6a1c1f-05da-4d0d-db2b-af2f3837405e"
      },
      "outputs": [
        {
          "output_type": "display_data",
          "data": {
            "text/plain": [
              "<Figure size 1200x400 with 2 Axes>"
            ],
            "image/png": "[encoded data removed]"
          },
          "metadata": {}
        }
      ],
      "source": [
        "# Extract the relevant metrics from the history object\n",
        "train_loss = history.history['loss']\n",
        "train_masked_acc = history.history['masked_accuracy']\n",
        "val_loss = history.history['val_loss']\n",
        "val_masked_acc = history.history['val_masked_accuracy']\n",
        "\n",
        "# Plot the metrics per epoch\n",
        "epochs = range(1, len(train_loss) + 1)\n",
        "\n",
        "plt.figure(figsize=(12, 4))\n",
        "\n",
        "# Plot training loss and validation loss\n",
        "plt.subplot(1, 2, 1)\n",
        "plt.plot(epochs, train_loss, 'b', label='Training Loss')\n",
        "plt.plot(epochs, val_loss, 'r', label='Validation Loss')\n",
        "plt.title('Training and Validation Loss')\n",
        "plt.xlabel('Epochs')\n",
        "plt.ylabel('Loss')\n",
        "plt.legend()\n",
        "\n",
        "# Plot training masked accuracy and validation masked accuracy\n",
        "plt.subplot(1, 2, 2)\n",
        "plt.plot(epochs, train_masked_acc, 'b', label='Training Masked Accuracy')\n",
        "plt.plot(epochs, val_masked_acc, 'r', label='Validation Masked Accuracy')\n",
        "plt.title('Training and Validation Masked Accuracy')\n",
        "plt.xlabel('Epochs')\n",
        "plt.ylabel('Accuracy')\n",
        "plt.legend()\n",
        "\n",
        "plt.tight_layout()\n",
        "plt.show()\n"
      ]
    },
    {
      "cell_type": "markdown",
      "metadata": {
        "id": "dJIJ0lqKClCk"
      },
      "source": [
        "## Chatbot"
      ]
    },
    {
      "cell_type": "code",
      "execution_count": null,
      "metadata": {
        "id": "RXcmuOxx_WiW"
      },
      "outputs": [],
      "source": [
        "MAX_TOKENS = 20\n",
        "\n",
        "class Chatbot(tf.Module):\n",
        "    def __init__(self, context_text_processor, target_text_processor, transformer):\n",
        "        self.context_tokenizer = context_text_processor\n",
        "        self.target_tokenizer = target_text_processor\n",
        "        self.transformer = transformer\n",
        "\n",
        "    def __call__(self, sentence, max_length=MAX_TOKENS):\n",
        "        assert isinstance(sentence, tf.Tensor)\n",
        "        if len(sentence.shape) == 0:\n",
        "            sentence = sentence[tf.newaxis]\n",
        "\n",
        "        sentence = self.context_tokenizer(sentence).to_tensor()\n",
        "\n",
        "        encoder_input = sentence\n",
        "\n",
        "        start_end = self.target_tokenizer([''])[0]\n",
        "        start = start_end[0][tf.newaxis]\n",
        "        end = start_end[1][tf.newaxis]\n",
        "\n",
        "        output_array = tf.TensorArray(dtype=tf.int64, size=0, dynamic_size=True)\n",
        "        output_array = output_array.write(0, start)\n",
        "\n",
        "        for i in tf.range(max_length):\n",
        "            output = tf.transpose(output_array.stack())\n",
        "            predictions = self.transformer([encoder_input, output], training=False)\n",
        "\n",
        "            # Select the last token from the `seq_len` dimension.\n",
        "            predictions = predictions[:, -1:, :]  # Shape `(batch_size, 1, vocab_size)`.\n",
        "\n",
        "            predicted_id = tf.argmax(predictions, axis=-1)\n",
        "\n",
        "            # Terminate if the predicted ID is the end token.\n",
        "            if tf.reduce_all(tf.equal(predicted_id, end)):\n",
        "                break\n",
        "\n",
        "            # Write the predicted ID to the output array.\n",
        "            output_array = output_array.write(i + 1, predicted_id[0])\n",
        "\n",
        "        # Convert the output array to a tensor and remove the batch dimension.\n",
        "        output = output_array.stack()\n",
        "        output = tf.squeeze(output, axis=1)\n",
        "\n",
        "        # Convert token IDs to text.\n",
        "        predicted_sentence = [self.target_tokenizer.get_vocabulary()[token_id] for token_id in output.numpy()]\n",
        "\n",
        "        # Remove the start and end tokens from the predicted sentence.\n",
        "        predicted_sentence = predicted_sentence[1:-1]\n",
        "\n",
        "        return predicted_sentence\n"
      ]
    },
    {
      "cell_type": "markdown",
      "metadata": {
        "id": "Z9RUgmX1ClCl"
      },
      "source": [
        "## Testing"
      ]
    },
    {
      "cell_type": "code",
      "execution_count": null,
      "metadata": {
        "id": "rAzh8zOJRAq9"
      },
      "outputs": [],
      "source": [
        "chatbot = Chatbot(\n",
        "    context_text_processor, target_text_processor, transformer\n",
        ")"
      ]
    },
    {
      "cell_type": "code",
      "source": [
        "def postprocess_response(response):\n",
        "    # Remove [UNK] tokens\n",
        "    # response = response.replace(\"[UNK]\", \"\")\n",
        "\n",
        "    # Capitalize the first letter of the response\n",
        "    response = response.capitalize()\n",
        "\n",
        "    # Add punctuation at the end of the response\n",
        "    if not response.endswith((\".\", \"!\", \"?\")):\n",
        "        response += \".\"\n",
        "\n",
        "    # Capitalize after each punctuation mark\n",
        "    response = re.sub(r'([.!?]\\s*)(\\w+)', lambda m: m.group(1) + m.group(2).capitalize(), response)\n",
        "\n",
        "    return response"
      ],
      "metadata": {
        "id": "yOmlhfD8rkm9"
      },
      "execution_count": null,
      "outputs": []
    },
    {
      "cell_type": "code",
      "source": [
        "def get_response(message):\n",
        "    message = chatbot(tf.constant([message]))\n",
        "    message = postprocess_response(\" \".join(message))\n",
        "    print(message)"
      ],
      "metadata": {
        "id": "ibhDmKQcQm66"
      },
      "execution_count": null,
      "outputs": []
    },
    {
      "cell_type": "code",
      "execution_count": null,
      "metadata": {
        "id": "0LLSIRKz8hBN"
      },
      "outputs": [],
      "source": [
        "prompts = [\n",
        "    \"What did you have for breakfast today?\",\n",
        "    \"Have you seen any interesting movies lately?\",\n",
        "    \"Tell me about the last book you read.\",\n",
        "    \"Did you meet any new people recently?\",\n",
        "    \"What is your favorite place to hang out?\",\n",
        "    \"Have you tried any new recipes recently?\",\n",
        "    \"Tell me about a funny incident that happened to you.\",\n",
        "    \"What is your favorite outdoor activity?\",\n",
        "    \"Did you learn something new today?\",\n",
        "    \"Describe your morning routine.\",\n",
        "    \"What is your favorite way to relax after a long day?\",\n",
        "    \"Tell me about a recent achievement or accomplishment.\",\n",
        "    \"Have you visited any new restaurants or cafes?\",\n",
        "    \"What is your favorite exercise or physical activity?\",\n",
        "    \"Did you discover any new music or songs recently?\",\n",
        "    \"Tell me about a project you're currently working on.\",\n",
        "    \"What is the most interesting thing you've learned this week?\",\n",
        "    \"Describe a place you would love to travel to and why.\",\n",
        "    \"Have you attended any events or concerts recently?\",\n",
        "    \"Tell me about a recent act of kindness you witnessed or performed.\"\n",
        "]"
      ]
    },
    {
      "cell_type": "code",
      "source": [
        "for prompt in prompts:\n",
        "  print(prompt)\n",
        "  get_response(prompt)"
      ],
      "metadata": {
        "colab": {
          "base_uri": "https://localhost:8080/"
        },
        "id": "rSUrYrD5-L1b",
        "outputId": "d8d132f0-b043-46a2-d9fb-0c7a0b750104"
      },
      "execution_count": null,
      "outputs": [
        {
          "output_type": "stream",
          "name": "stdout",
          "text": [
            "What did you have for breakfast today?\n",
            "I went to the gym at the airport.\n",
            "Have you seen any interesting movies lately?\n",
            "Yes , i have.\n",
            "Tell me about the last book you read.\n",
            "I am afraid i am not interested in it.\n",
            "Did you meet any new people recently?\n",
            "Yes , i did.\n",
            "What is your favorite place to hang out?\n",
            "I am not sure.\n",
            "Have you tried any new recipes recently?\n",
            "Yes , i do . I am going to try to find a new dress.\n",
            "Tell me about a funny incident that happened to you.\n",
            "I did not know that.\n",
            "What is your favorite outdoor activity?\n",
            "I am not sure.\n",
            "Did you learn something new today?\n",
            "Yes , i did.\n",
            "Describe your morning routine.\n",
            "I am from [unk].\n",
            "What is your favorite way to relax after a long day?\n",
            "I do not know . I do not know.\n",
            "Tell me about a recent achievement or accomplishment.\n",
            "I am sure we will do well.\n",
            "Have you visited any new restaurants or cafes?\n",
            "I do not know . I do not know.\n",
            "What is your favorite exercise or physical activity?\n",
            "I am studying at the university entrance exam.\n",
            "Did you discover any new music or songs recently?\n",
            "I did not know . I thought you were a little singer.\n",
            "Tell me about a project you're currently working on.\n",
            "I am going to work in a business trip.\n",
            "What is the most interesting thing you've learned this week?\n",
            "I am a teacher.\n",
            "Describe a place you would love to travel to and why.\n",
            "I am not sure.\n",
            "Have you attended any events or concerts recently?\n",
            "I was in the [unk] [unk] [unk] [unk] [unk] [unk] [unk] [unk] [unk] [unk] [unk] [unk] [unk] [unk] [unk].\n",
            "Tell me about a recent act of kindness you witnessed or performed.\n",
            "I am not sure.\n"
          ]
        }
      ]
    }
  ],
  "metadata": {
    "accelerator": "GPU",
    "colab": {
      "provenance": [],
      "gpuType": "T4"
    },
    "kernelspec": {
      "display_name": "Python 3",
      "name": "python3"
    },
    "language_info": {
      "codemirror_mode": {
        "name": "ipython",
        "version": 3
      },
      "file_extension": ".py",
      "mimetype": "text/x-python",
      "name": "python",
      "nbconvert_exporter": "python",
      "pygments_lexer": "ipython3",
      "version": "3.9.13"
    }
  },
  "nbformat": 4,
  "nbformat_minor": 0
}